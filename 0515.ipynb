{
  "nbformat": 4,
  "nbformat_minor": 0,
  "metadata": {
    "colab": {
      "provenance": [],
      "authorship_tag": "ABX9TyPiH0VGCup3Z+bE+Aml9dhp",
      "include_colab_link": true
    },
    "kernelspec": {
      "name": "python3",
      "display_name": "Python 3"
    },
    "language_info": {
      "name": "python"
    }
  },
  "cells": [
    {
      "cell_type": "markdown",
      "metadata": {
        "id": "view-in-github",
        "colab_type": "text"
      },
      "source": [
        "<a href=\"https://colab.research.google.com/github/theaulait81/introduction-to-computer/blob/main/0515.ipynb\" target=\"_parent\"><img src=\"https://colab.research.google.com/assets/colab-badge.svg\" alt=\"Open In Colab\"/></a>"
      ]
    },
    {
      "cell_type": "code",
      "execution_count": 1,
      "metadata": {
        "colab": {
          "base_uri": "https://localhost:8080/"
        },
        "id": "Bv107-EP0koH",
        "outputId": "ebf24032-a980-45b9-cd3e-15f0bdd695fc"
      },
      "outputs": [
        {
          "output_type": "stream",
          "name": "stdout",
          "text": [
            "0515\n"
          ]
        }
      ],
      "source": [
        "print(\"0515\")"
      ]
    },
    {
      "cell_type": "code",
      "source": [
        "rain=input(\"rain:\")\n",
        "if(rain==\"Y\" or rain==\"y\"):\n",
        "  print(\"帶傘\")\n",
        "elif(rain==\"N\" or rain==\"n\"):\n",
        "  print(\"不用帶傘\")\n",
        "else:\n",
        "  input(\"rain:\")"
      ],
      "metadata": {
        "colab": {
          "base_uri": "https://localhost:8080/"
        },
        "id": "N1rVrbgm4Loe",
        "outputId": "12306dd4-e9e0-46e7-ec7f-1dd316ef52c1"
      },
      "execution_count": 11,
      "outputs": [
        {
          "output_type": "stream",
          "name": "stdout",
          "text": [
            "rain:y\n",
            "帶傘\n"
          ]
        }
      ]
    },
    {
      "cell_type": "code",
      "source": [
        "體溫 = int(input(\"體溫: \"))\n",
        "if 體溫 >= 37.5:\n",
        "    print('體溫: 體溫過高！')\n",
        "elif 體溫 <= 37.4:\n",
        "    print('體溫: 體溫略高')\n",
        "elif 體溫 <= 36.9:\n",
        "    print('體溫: 體溫正常')\n",
        "elif 體溫 <34:\n",
        "    print('體溫:體溫異常，請重新測量！')\n"
      ],
      "metadata": {
        "colab": {
          "base_uri": "https://localhost:8080/"
        },
        "id": "SMGafsXw7GM1",
        "outputId": "a0854385-bd8e-494a-fc88-9132bbe41e2a"
      },
      "execution_count": 12,
      "outputs": [
        {
          "output_type": "stream",
          "name": "stdout",
          "text": [
            "體溫: 37\n",
            "體溫: 體溫略高\n"
          ]
        }
      ]
    },
    {
      "cell_type": "code",
      "source": [
        "score = int(input(\"score: \"))\n",
        "if score >= 90:\n",
        "    print('Grade is: A')\n",
        "elif score >= 80:\n",
        "    print('Grade is: B')\n",
        "elif score >= 70:\n",
        "    print('Grade is: C')\n",
        "elif score >= 60:\n",
        "    print('Grade is: D')\n",
        "else:\n",
        "    print('Grade is: F')"
      ],
      "metadata": {
        "colab": {
          "base_uri": "https://localhost:8080/"
        },
        "id": "RqcZlVNE8moZ",
        "outputId": "0a71f823-c9f3-4671-f93e-ed205dcab6ef"
      },
      "execution_count": 13,
      "outputs": [
        {
          "output_type": "stream",
          "name": "stdout",
          "text": [
            "score: 80\n",
            "Grade is: B\n"
          ]
        }
      ]
    },
    {
      "cell_type": "code",
      "source": [
        "month = int(input(\"month: \"))\n",
        "if month <= 5:\n",
        "    print('month is: spring')\n",
        "elif month <= 8:\n",
        "    print('month is: summer')\n",
        "elif month >= 11:\n",
        "    print('month is: fall')\n",
        "elif month <= 12:\n",
        "    print('month is: winter')\n",
        "elif month <= 2:\n",
        "    print('month is: winter')\n",
        "else:\n",
        "    print('不在範圍內')"
      ],
      "metadata": {
        "colab": {
          "base_uri": "https://localhost:8080/"
        },
        "id": "yILuipWT-3NU",
        "outputId": "0074448b-8a23-419b-a972-b437c0f8ed4b"
      },
      "execution_count": 31,
      "outputs": [
        {
          "output_type": "stream",
          "name": "stdout",
          "text": [
            "month: 11\n",
            "month is: fall\n"
          ]
        }
      ]
    },
    {
      "cell_type": "code",
      "source": [
        "淨額 = int(input(\"請輸入今年收淨額: \"))\n",
        "if 淨額 >= 2000000:\n",
        "    print('稅率: 0.3')\n",
        "elif 淨額 >= 1000000:\n",
        "    print('稅率: 0.21')\n",
        "elif 淨額 >= 600000:\n",
        "    print('稅率: 0.13')\n",
        "elif 淨額 >= 300000:\n",
        "    print('稅率: 0.06')\n",
        "else:\n",
        "    print('稅率: 0')\n"
      ],
      "metadata": {
        "colab": {
          "base_uri": "https://localhost:8080/"
        },
        "id": "CcK9VtYoAllj",
        "outputId": "606ca35d-97f5-41ff-aab5-5483afc63caa"
      },
      "execution_count": 34,
      "outputs": [
        {
          "output_type": "stream",
          "name": "stdout",
          "text": [
            "請輸入今年收淨額: 20000\n",
            "稅率: 0\n"
          ]
        }
      ]
    }
  ]
}